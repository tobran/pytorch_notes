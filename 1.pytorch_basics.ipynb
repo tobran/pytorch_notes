{
 "cells": [
  {
   "cell_type": "code",
   "execution_count": 2,
   "metadata": {},
   "outputs": [
    {
     "data": {
      "text/plain": [
       "'1.0.1'"
      ]
     },
     "execution_count": 2,
     "metadata": {},
     "output_type": "execute_result"
    }
   ],
   "source": [
    "from __future__ import print_function\n",
    "import torch\n",
    "import numpy\n",
    "from common import des\n",
    "torch.__version__"
   ]
  },
  {
   "cell_type": "code",
   "execution_count": 28,
   "metadata": {},
   "outputs": [],
   "source": [
    "def describe(x):\n",
    "    print('x.type : {} '.format(x.type()))\n",
    "    print('x.size : {}'.format(x.size()))\n",
    "    print('x :\\n{}\\n'.format(x))"
   ]
  },
  {
   "cell_type": "markdown",
   "metadata": {},
   "source": [
    "---"
   ]
  },
  {
   "cell_type": "markdown",
   "metadata": {},
   "source": [
    "# 1 创建一个tensor"
   ]
  },
  {
   "cell_type": "markdown",
   "metadata": {},
   "source": [
    "### 方法一：`torch.tensor`将列表转换为tensor"
   ]
  },
  {
   "cell_type": "code",
   "execution_count": 29,
   "metadata": {},
   "outputs": [
    {
     "name": "stdout",
     "output_type": "stream",
     "text": [
      "x.type : torch.LongTensor \n",
      "x.size : torch.Size([2, 3])\n",
      "x :\n",
      "tensor([[1, 2, 3],\n",
      "        [4, 5, 6]])\n",
      "\n"
     ]
    }
   ],
   "source": [
    "x = torch.tensor([[1,2,3],[4,5,6]])   #只能输入列表\n",
    "\n",
    "describe(x)"
   ]
  },
  {
   "cell_type": "markdown",
   "metadata": {},
   "source": [
    "### 方法二：`torch.FloatTensor`,`torch.LongTensor`等指定形状创建tensor"
   ]
  },
  {
   "cell_type": "code",
   "execution_count": 31,
   "metadata": {},
   "outputs": [
    {
     "name": "stdout",
     "output_type": "stream",
     "text": [
      "x.type : torch.FloatTensor \n",
      "x.size : torch.Size([3, 3])\n",
      "x :\n",
      "tensor([[ 0.0000e+00,  0.0000e+00, -8.0959e-13],\n",
      "        [ 4.5909e-41,  2.8026e-45,  0.0000e+00],\n",
      "        [        nan,         nan,  3.8519e-34]])\n",
      "\n",
      "x.type : torch.FloatTensor \n",
      "x.size : torch.Size([3, 3])\n",
      "x :\n",
      "tensor([[ 0.0000e+00,  0.0000e+00, -8.0959e-13],\n",
      "        [ 4.5909e-41,  2.8026e-45,  0.0000e+00],\n",
      "        [        nan,         nan,  0.0000e+00]])\n",
      "\n",
      "x.type : torch.LongTensor \n",
      "x.size : torch.Size([3, 3])\n",
      "x :\n",
      "tensor([[                0,                 0,                 0],\n",
      "        [                0,                 0,              1160],\n",
      "        [34058953218326528,                 0,                 0]])\n",
      "\n"
     ]
    }
   ],
   "source": [
    "x = torch.FloatTensor(3,3)\n",
    "x1 = torch.Tensor(3,3)   #默认为FloatTensor，可通过更改pytorch设置改变其输出类型\n",
    "y = torch.LongTensor(3,3)\n",
    "\n",
    "describe(x)\n",
    "describe(x1)\n",
    "describe(y)"
   ]
  },
  {
   "cell_type": "markdown",
   "metadata": {},
   "source": [
    "### 方法三：`torch.rand()`生成元素在0，1之间的tensor"
   ]
  },
  {
   "cell_type": "code",
   "execution_count": 34,
   "metadata": {},
   "outputs": [
    {
     "name": "stdout",
     "output_type": "stream",
     "text": [
      "x.type : torch.FloatTensor \n",
      "x.size : torch.Size([3, 3])\n",
      "x :\n",
      "tensor([[0.1412, 0.3157, 0.4800],\n",
      "        [0.7131, 0.1193, 0.6379],\n",
      "        [0.9080, 0.4995, 0.5079]])\n",
      "\n"
     ]
    }
   ],
   "source": [
    "x = torch.rand(3, 3)\n",
    "\n",
    "describe(x)"
   ]
  },
  {
   "cell_type": "markdown",
   "metadata": {},
   "source": [
    "### 方法四：`torch.randn()`生成元素符合标准正态分布的tensor"
   ]
  },
  {
   "cell_type": "code",
   "execution_count": 42,
   "metadata": {},
   "outputs": [
    {
     "name": "stdout",
     "output_type": "stream",
     "text": [
      "x.type : torch.FloatTensor \n",
      "x.size : torch.Size([5, 5])\n",
      "x :\n",
      "tensor([[-1.0378, -1.6604,  1.5658,  0.1516, -1.3173],\n",
      "        [-0.5129, -0.2630,  1.7001, -0.1972, -0.4703],\n",
      "        [ 1.1221, -1.9905, -0.2341,  0.8430, -0.2531],\n",
      "        [-0.9556,  0.9015,  0.4099, -0.7484,  0.9703],\n",
      "        [-0.7072, -0.9884, -0.5526, -0.7766,  1.1795]])\n",
      "\n"
     ]
    },
    {
     "data": {
      "text/plain": [
       "tensor([[-1.0378,  1.5658, -1.3173],\n",
       "        [-0.5129,  1.7001, -0.4703],\n",
       "        [ 1.1221, -0.2341, -0.2531],\n",
       "        [-0.9556,  0.4099,  0.9703],\n",
       "        [-0.7072, -0.5526,  1.1795]])"
      ]
     },
     "execution_count": 42,
     "metadata": {},
     "output_type": "execute_result"
    }
   ],
   "source": [
    "# 构建 5x3 矩阵，只是分配了空间，未初始化\n",
    "x = torch.randn(5, 5)\n",
    "\n",
    "describe(x)\n",
    "\n",
    "x[:,0:5:2]  #起始：终止+1：步长"
   ]
  },
  {
   "cell_type": "markdown",
   "metadata": {},
   "source": [
    "### 方法五：`torch.zeros()`生成全0的tensor,`torch,ones`生成全1的tensor"
   ]
  },
  {
   "cell_type": "code",
   "execution_count": 44,
   "metadata": {},
   "outputs": [
    {
     "name": "stdout",
     "output_type": "stream",
     "text": [
      "x.type : torch.FloatTensor \n",
      "x.size : torch.Size([3, 3])\n",
      "x :\n",
      "tensor([[0., 0., 0.],\n",
      "        [0., 0., 0.],\n",
      "        [0., 0., 0.]])\n",
      "\n",
      "x.type : torch.FloatTensor \n",
      "x.size : torch.Size([3, 3])\n",
      "x :\n",
      "tensor([[1., 1., 1.],\n",
      "        [1., 1., 1.],\n",
      "        [1., 1., 1.]])\n",
      "\n"
     ]
    }
   ],
   "source": [
    "x = torch.zeros(3,3)\n",
    "x1 = torch.ones(3,3)\n",
    "describe(x)\n",
    "describe(x1)"
   ]
  },
  {
   "cell_type": "markdown",
   "metadata": {},
   "source": [
    "### 方法六：使用`torch.from_numpy()`将一个numpy数组转为tensor"
   ]
  },
  {
   "cell_type": "code",
   "execution_count": 49,
   "metadata": {},
   "outputs": [
    {
     "name": "stdout",
     "output_type": "stream",
     "text": [
      "[[0.57940803 0.00371448 0.14503214]\n",
      " [0.22031266 0.06345736 0.67914008]\n",
      " [0.91976657 0.7093897  0.21162536]]\n"
     ]
    }
   ],
   "source": [
    "import numpy as np\n",
    "\n",
    "x = np.random.rand(3,3)\n",
    "\n",
    "print(x)"
   ]
  },
  {
   "cell_type": "code",
   "execution_count": 50,
   "metadata": {},
   "outputs": [
    {
     "name": "stdout",
     "output_type": "stream",
     "text": [
      "x.type : torch.DoubleTensor \n",
      "x.size : torch.Size([3, 3])\n",
      "x :\n",
      "tensor([[0.5794, 0.0037, 0.1450],\n",
      "        [0.2203, 0.0635, 0.6791],\n",
      "        [0.9198, 0.7094, 0.2116]], dtype=torch.float64)\n",
      "\n"
     ]
    }
   ],
   "source": [
    "x1 = torch.from_numpy(x)\n",
    "\n",
    "describe(x1)"
   ]
  },
  {
   "cell_type": "markdown",
   "metadata": {},
   "source": [
    "---"
   ]
  },
  {
   "cell_type": "markdown",
   "metadata": {},
   "source": [
    "# 2 tensor和numpy数组共享内存"
   ]
  },
  {
   "cell_type": "code",
   "execution_count": 54,
   "metadata": {},
   "outputs": [
    {
     "data": {
      "text/plain": [
       "(array([[ 1.79764944,  0.17898194, -1.26026973],\n",
       "        [ 0.86725058, -0.94388857,  0.50465909],\n",
       "        [-1.86833115,  0.58828118,  0.21412948]]),\n",
       " tensor([[ 1.7976,  0.1790, -1.2603],\n",
       "         [ 0.8673, -0.9439,  0.5047],\n",
       "         [-1.8683,  0.5883,  0.2141]], dtype=torch.float64))"
      ]
     },
     "execution_count": 54,
     "metadata": {},
     "output_type": "execute_result"
    }
   ],
   "source": [
    "x = np.random.randn(3,3)\n",
    "x1 = torch.from_numpy(x)\n",
    "\n",
    "x,x1"
   ]
  },
  {
   "cell_type": "code",
   "execution_count": 56,
   "metadata": {},
   "outputs": [
    {
     "data": {
      "text/plain": [
       "(array([[3.79764944, 2.17898194, 0.73973027],\n",
       "        [2.86725058, 1.05611143, 2.50465909],\n",
       "        [0.13166885, 2.58828118, 2.21412948]]),\n",
       " tensor([[3.7976, 2.1790, 0.7397],\n",
       "         [2.8673, 1.0561, 2.5047],\n",
       "         [0.1317, 2.5883, 2.2141]], dtype=torch.float64))"
      ]
     },
     "execution_count": 56,
     "metadata": {},
     "output_type": "execute_result"
    }
   ],
   "source": [
    "x1.add_(1)\n",
    "\n",
    "x,x1  #数值同时变化"
   ]
  },
  {
   "cell_type": "code",
   "execution_count": 60,
   "metadata": {},
   "outputs": [
    {
     "data": {
      "text/plain": [
       "(tensor([[-1.4247, -1.5849,  1.3106],\n",
       "         [ 0.3636, -0.3092, -1.3316],\n",
       "         [ 0.1243,  1.6936, -0.3583]]),\n",
       " array([[-1.4246763 , -1.5848707 ,  1.3106009 ],\n",
       "        [ 0.36355898, -0.3091837 , -1.3315983 ],\n",
       "        [ 0.12427144,  1.6935744 , -0.3583063 ]], dtype=float32))"
      ]
     },
     "execution_count": 60,
     "metadata": {},
     "output_type": "execute_result"
    }
   ],
   "source": [
    "x = torch.randn(3,3)\n",
    "x1=x.numpy()\n",
    "x,x1"
   ]
  },
  {
   "cell_type": "code",
   "execution_count": 61,
   "metadata": {},
   "outputs": [
    {
     "data": {
      "text/plain": [
       "(tensor([[-0.4247, -0.5849,  2.3106],\n",
       "         [ 1.3636,  0.6908, -0.3316],\n",
       "         [ 1.1243,  2.6936,  0.6417]]),\n",
       " array([[-0.4246763 , -0.5848707 ,  2.3106008 ],\n",
       "        [ 1.363559  ,  0.6908163 , -0.33159828],\n",
       "        [ 1.1242714 ,  2.6935744 ,  0.6416937 ]], dtype=float32))"
      ]
     },
     "execution_count": 61,
     "metadata": {},
     "output_type": "execute_result"
    }
   ],
   "source": [
    "x.add_(1)\n",
    "\n",
    "x,x1  #数值同时变化"
   ]
  },
  {
   "cell_type": "markdown",
   "metadata": {},
   "source": [
    "---"
   ]
  },
  {
   "cell_type": "markdown",
   "metadata": {},
   "source": [
    "# 3 区分torch.tensor(3)与torch.tensor([3])\n",
    "\n",
    "tensor(3)是一个**0dim**的tensor,而torch.tensor([3])是一个**1dim**的tensor"
   ]
  },
  {
   "cell_type": "code",
   "execution_count": 69,
   "metadata": {},
   "outputs": [
    {
     "data": {
      "text/plain": [
       "(torch.Size([]), torch.Size([1]))"
      ]
     },
     "execution_count": 69,
     "metadata": {},
     "output_type": "execute_result"
    }
   ],
   "source": [
    "x = torch.tensor(3)\n",
    "x1 = torch.tensor([3])\n",
    "\n",
    "x.size(),x1.size()"
   ]
  },
  {
   "cell_type": "markdown",
   "metadata": {},
   "source": [
    "---"
   ]
  },
  {
   "cell_type": "markdown",
   "metadata": {},
   "source": [
    "# 4 tensor加法"
   ]
  },
  {
   "cell_type": "markdown",
   "metadata": {},
   "source": [
    "### 方法1：直接x+y"
   ]
  },
  {
   "cell_type": "code",
   "execution_count": 70,
   "metadata": {},
   "outputs": [],
   "source": [
    "x = torch.ones(3,3)\n",
    "y = torch.ones(3,3)"
   ]
  },
  {
   "cell_type": "code",
   "execution_count": 72,
   "metadata": {},
   "outputs": [
    {
     "data": {
      "text/plain": [
       "tensor([[2., 2., 2.],\n",
       "        [2., 2., 2.],\n",
       "        [2., 2., 2.]])"
      ]
     },
     "execution_count": 72,
     "metadata": {},
     "output_type": "execute_result"
    }
   ],
   "source": [
    "add1 = x+y\n",
    "\n",
    "add1"
   ]
  },
  {
   "cell_type": "markdown",
   "metadata": {},
   "source": [
    "### 方法二：用`.add()`方法"
   ]
  },
  {
   "cell_type": "code",
   "execution_count": 74,
   "metadata": {},
   "outputs": [
    {
     "data": {
      "text/plain": [
       "tensor([[2., 2., 2.],\n",
       "        [2., 2., 2.],\n",
       "        [2., 2., 2.]])"
      ]
     },
     "execution_count": 74,
     "metadata": {},
     "output_type": "execute_result"
    }
   ],
   "source": [
    "add2 = torch.add(x,y)\n",
    "\n",
    "add2"
   ]
  },
  {
   "cell_type": "markdown",
   "metadata": {},
   "source": [
    "### 方法三：用`.add(x,y,out)`方法"
   ]
  },
  {
   "cell_type": "code",
   "execution_count": 81,
   "metadata": {},
   "outputs": [
    {
     "data": {
      "text/plain": [
       "tensor([[1., 1., 1.],\n",
       "        [1., 1., 1.],\n",
       "        [1., 1., 1.]])"
      ]
     },
     "execution_count": 81,
     "metadata": {},
     "output_type": "execute_result"
    }
   ],
   "source": [
    "add3 = x.clone().detach()   #定义add3，大小与x一样\n",
    "\n",
    "add3"
   ]
  },
  {
   "cell_type": "code",
   "execution_count": 80,
   "metadata": {},
   "outputs": [
    {
     "data": {
      "text/plain": [
       "tensor([[2., 2., 2.],\n",
       "        [2., 2., 2.],\n",
       "        [2., 2., 2.]])"
      ]
     },
     "execution_count": 80,
     "metadata": {},
     "output_type": "execute_result"
    }
   ],
   "source": [
    "torch.add(x,y,out=add3)\n",
    "\n",
    "add3"
   ]
  },
  {
   "cell_type": "markdown",
   "metadata": {},
   "source": [
    "---"
   ]
  },
  {
   "cell_type": "markdown",
   "metadata": {},
   "source": [
    "# 5 转为GPU的Tensor"
   ]
  },
  {
   "cell_type": "code",
   "execution_count": 83,
   "metadata": {},
   "outputs": [
    {
     "name": "stdout",
     "output_type": "stream",
     "text": [
      "x.type : torch.cuda.FloatTensor \n",
      "x.size : torch.Size([3, 3])\n",
      "x :\n",
      "tensor([[1., 1., 1.],\n",
      "        [1., 1., 1.],\n",
      "        [1., 1., 1.]], device='cuda:0')\n",
      "\n"
     ]
    }
   ],
   "source": [
    "x = torch.ones(3,3)\n",
    "\n",
    "device = torch.device('cuda:0' if torch.cuda.is_available() else 'cpu')\n",
    "\n",
    "x = x.to(device)\n",
    "\n",
    "describe(x)"
   ]
  },
  {
   "cell_type": "markdown",
   "metadata": {},
   "source": [
    "# 6 创建`reqires_grad=True`的tensor"
   ]
  },
  {
   "cell_type": "code",
   "execution_count": 87,
   "metadata": {},
   "outputs": [
    {
     "name": "stdout",
     "output_type": "stream",
     "text": [
      "x.type : torch.FloatTensor \n",
      "x.size : torch.Size([2, 3])\n",
      "x :\n",
      "tensor([[1., 1., 1.],\n",
      "        [1., 1., 1.]], requires_grad=True)\n",
      "\n"
     ]
    }
   ],
   "source": [
    "x = torch.ones(2,3,requires_grad=True)\n",
    "\n",
    "describe(x)"
   ]
  },
  {
   "cell_type": "code",
   "execution_count": 88,
   "metadata": {},
   "outputs": [
    {
     "ename": "TypeError",
     "evalue": "new() received an invalid combination of arguments - got (int, int, requires_grad=bool), but expected one of:\n * (torch.device device)\n * (torch.Storage storage)\n * (Tensor other)\n * (tuple of ints size, torch.device device)\n * (object data, torch.device device)\n",
     "output_type": "error",
     "traceback": [
      "\u001b[1;31m---------------------------------------------------------------------------\u001b[0m",
      "\u001b[1;31mTypeError\u001b[0m                                 Traceback (most recent call last)",
      "\u001b[1;32m<ipython-input-88-0484bef40788>\u001b[0m in \u001b[0;36m<module>\u001b[1;34m\u001b[0m\n\u001b[1;32m----> 1\u001b[1;33m \u001b[0mx\u001b[0m \u001b[1;33m=\u001b[0m \u001b[0mtorch\u001b[0m\u001b[1;33m.\u001b[0m\u001b[0mFloatTensor\u001b[0m\u001b[1;33m(\u001b[0m\u001b[1;36m2\u001b[0m\u001b[1;33m,\u001b[0m\u001b[1;36m3\u001b[0m\u001b[1;33m,\u001b[0m\u001b[0mrequires_grad\u001b[0m\u001b[1;33m=\u001b[0m\u001b[1;32mTrue\u001b[0m\u001b[1;33m)\u001b[0m\u001b[1;33m\u001b[0m\u001b[1;33m\u001b[0m\u001b[0m\n\u001b[0m",
      "\u001b[1;31mTypeError\u001b[0m: new() received an invalid combination of arguments - got (int, int, requires_grad=bool), but expected one of:\n * (torch.device device)\n * (torch.Storage storage)\n * (Tensor other)\n * (tuple of ints size, torch.device device)\n * (object data, torch.device device)\n"
     ]
    }
   ],
   "source": [
    "x = torch.FloatTensor(2,3,requires_grad=True)"
   ]
  },
  {
   "cell_type": "code",
   "execution_count": 90,
   "metadata": {},
   "outputs": [
    {
     "name": "stdout",
     "output_type": "stream",
     "text": [
      "x.type : torch.FloatTensor \n",
      "x.size : torch.Size([2, 3])\n",
      "x :\n",
      "tensor([[5.5181e+26, 4.5909e-41, 0.0000e+00],\n",
      "        [0.0000e+00, 0.0000e+00, 0.0000e+00]], requires_grad=True)\n",
      "\n"
     ]
    }
   ],
   "source": [
    "x = torch.FloatTensor(2,3)\n",
    "x.requires_grad=True\n",
    "\n",
    "describe(x)"
   ]
  },
  {
   "cell_type": "markdown",
   "metadata": {},
   "source": [
    "# 7 求梯度`.backward()`与`.grad`"
   ]
  },
  {
   "cell_type": "code",
   "execution_count": 118,
   "metadata": {},
   "outputs": [
    {
     "data": {
      "text/plain": [
       "tensor([[1., 1.],\n",
       "        [1., 1.]], requires_grad=True)"
      ]
     },
     "execution_count": 118,
     "metadata": {},
     "output_type": "execute_result"
    }
   ],
   "source": [
    "x = torch.ones(2,2,requires_grad=True)\n",
    "x"
   ]
  },
  {
   "cell_type": "code",
   "execution_count": 119,
   "metadata": {},
   "outputs": [
    {
     "data": {
      "text/plain": [
       "tensor(4., grad_fn=<SumBackward0>)"
      ]
     },
     "execution_count": 119,
     "metadata": {},
     "output_type": "execute_result"
    }
   ],
   "source": [
    "y = x.sum()\n",
    "\n",
    "y"
   ]
  },
  {
   "cell_type": "code",
   "execution_count": 120,
   "metadata": {},
   "outputs": [],
   "source": [
    "y.backward()"
   ]
  },
  {
   "cell_type": "code",
   "execution_count": 121,
   "metadata": {},
   "outputs": [
    {
     "name": "stdout",
     "output_type": "stream",
     "text": [
      "tensor([[1., 1.],\n",
      "        [1., 1.]])\n"
     ]
    }
   ],
   "source": [
    "print(x.grad)"
   ]
  },
  {
   "cell_type": "code",
   "execution_count": null,
   "metadata": {},
   "outputs": [],
   "source": []
  }
 ],
 "metadata": {
  "kernelspec": {
   "display_name": "Python 3",
   "language": "python",
   "name": "python3"
  },
  "language_info": {
   "codemirror_mode": {
    "name": "ipython",
    "version": 3
   },
   "file_extension": ".py",
   "mimetype": "text/x-python",
   "name": "python",
   "nbconvert_exporter": "python",
   "pygments_lexer": "ipython3",
   "version": "3.7.2"
  }
 },
 "nbformat": 4,
 "nbformat_minor": 2
}
